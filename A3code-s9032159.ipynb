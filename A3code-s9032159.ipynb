{
 "cells": [
  {
   "cell_type": "markdown",
   "metadata": {
    "id": "u-EEv9utoT69"
   },
   "source": [
    "# Assignment 3 by: Jordan Pang (s3902159)\n"
   ]
  },
  {
   "cell_type": "code",
   "execution_count": 1,
   "metadata": {},
   "outputs": [],
   "source": [
    "import pandas as pd\n",
    "import numpy as np\n",
    "import matplotlib.pyplot as plt\n",
    "import seaborn as sns\n",
    "import random\n",
    "from sklearn.metrics.pairwise import cosine_similarity\n",
    "from sklearn.metrics import mean_squared_error\n",
    "from scipy.sparse.linalg import svds\n",
    "from sklearn.metrics import average_precision_score\n",
    "\n",
    "random.seed(15)"
   ]
  },
  {
   "cell_type": "markdown",
   "metadata": {
    "id": "u-EEv9utoT69"
   },
   "source": [
    "# Task 1: kNN-based Collaborative Filtering\n"
   ]
  },
  {
   "cell_type": "code",
   "execution_count": 2,
   "metadata": {},
   "outputs": [
    {
     "data": {
      "text/html": [
       "<div>\n",
       "<style scoped>\n",
       "    .dataframe tbody tr th:only-of-type {\n",
       "        vertical-align: middle;\n",
       "    }\n",
       "\n",
       "    .dataframe tbody tr th {\n",
       "        vertical-align: top;\n",
       "    }\n",
       "\n",
       "    .dataframe thead th {\n",
       "        text-align: right;\n",
       "    }\n",
       "</style>\n",
       "<table border=\"1\" class=\"dataframe\">\n",
       "  <thead>\n",
       "    <tr style=\"text-align: right;\">\n",
       "      <th></th>\n",
       "      <th>UserID</th>\n",
       "      <th>MovieID</th>\n",
       "      <th>Rating</th>\n",
       "      <th>Timestamp</th>\n",
       "    </tr>\n",
       "  </thead>\n",
       "  <tbody>\n",
       "    <tr>\n",
       "      <th>0</th>\n",
       "      <td>1</td>\n",
       "      <td>1193</td>\n",
       "      <td>5</td>\n",
       "      <td>978300760</td>\n",
       "    </tr>\n",
       "    <tr>\n",
       "      <th>1</th>\n",
       "      <td>1</td>\n",
       "      <td>661</td>\n",
       "      <td>3</td>\n",
       "      <td>978302109</td>\n",
       "    </tr>\n",
       "    <tr>\n",
       "      <th>2</th>\n",
       "      <td>1</td>\n",
       "      <td>914</td>\n",
       "      <td>3</td>\n",
       "      <td>978301968</td>\n",
       "    </tr>\n",
       "    <tr>\n",
       "      <th>3</th>\n",
       "      <td>1</td>\n",
       "      <td>3408</td>\n",
       "      <td>4</td>\n",
       "      <td>978300275</td>\n",
       "    </tr>\n",
       "    <tr>\n",
       "      <th>4</th>\n",
       "      <td>1</td>\n",
       "      <td>2355</td>\n",
       "      <td>5</td>\n",
       "      <td>978824291</td>\n",
       "    </tr>\n",
       "  </tbody>\n",
       "</table>\n",
       "</div>"
      ],
      "text/plain": [
       "   UserID  MovieID  Rating  Timestamp\n",
       "0       1     1193       5  978300760\n",
       "1       1      661       3  978302109\n",
       "2       1      914       3  978301968\n",
       "3       1     3408       4  978300275\n",
       "4       1     2355       5  978824291"
      ]
     },
     "execution_count": 2,
     "metadata": {},
     "output_type": "execute_result"
    }
   ],
   "source": [
    "# define columns for ratings.dat\n",
    "ratings_columns = [\"UserID\", \"MovieID\", \"Rating\", \"Timestamp\"]\n",
    "# import ratings.dat as df\n",
    "ratings_df = pd.read_csv(\"ml-1m/ratings.dat\", sep=\"::\", names=ratings_columns, engine=\"python\")\n",
    "ratings_df.head()"
   ]
  },
  {
   "cell_type": "code",
   "execution_count": 3,
   "metadata": {},
   "outputs": [
    {
     "data": {
      "text/html": [
       "<div>\n",
       "<style scoped>\n",
       "    .dataframe tbody tr th:only-of-type {\n",
       "        vertical-align: middle;\n",
       "    }\n",
       "\n",
       "    .dataframe tbody tr th {\n",
       "        vertical-align: top;\n",
       "    }\n",
       "\n",
       "    .dataframe thead th {\n",
       "        text-align: right;\n",
       "    }\n",
       "</style>\n",
       "<table border=\"1\" class=\"dataframe\">\n",
       "  <thead>\n",
       "    <tr style=\"text-align: right;\">\n",
       "      <th></th>\n",
       "      <th>MovieID</th>\n",
       "      <th>Title</th>\n",
       "      <th>Genres</th>\n",
       "    </tr>\n",
       "  </thead>\n",
       "  <tbody>\n",
       "    <tr>\n",
       "      <th>0</th>\n",
       "      <td>1</td>\n",
       "      <td>Toy Story (1995)</td>\n",
       "      <td>Animation|Children's|Comedy</td>\n",
       "    </tr>\n",
       "    <tr>\n",
       "      <th>1</th>\n",
       "      <td>2</td>\n",
       "      <td>Jumanji (1995)</td>\n",
       "      <td>Adventure|Children's|Fantasy</td>\n",
       "    </tr>\n",
       "    <tr>\n",
       "      <th>2</th>\n",
       "      <td>3</td>\n",
       "      <td>Grumpier Old Men (1995)</td>\n",
       "      <td>Comedy|Romance</td>\n",
       "    </tr>\n",
       "    <tr>\n",
       "      <th>3</th>\n",
       "      <td>4</td>\n",
       "      <td>Waiting to Exhale (1995)</td>\n",
       "      <td>Comedy|Drama</td>\n",
       "    </tr>\n",
       "    <tr>\n",
       "      <th>4</th>\n",
       "      <td>5</td>\n",
       "      <td>Father of the Bride Part II (1995)</td>\n",
       "      <td>Comedy</td>\n",
       "    </tr>\n",
       "  </tbody>\n",
       "</table>\n",
       "</div>"
      ],
      "text/plain": [
       "   MovieID                               Title                        Genres\n",
       "0        1                    Toy Story (1995)   Animation|Children's|Comedy\n",
       "1        2                      Jumanji (1995)  Adventure|Children's|Fantasy\n",
       "2        3             Grumpier Old Men (1995)                Comedy|Romance\n",
       "3        4            Waiting to Exhale (1995)                  Comedy|Drama\n",
       "4        5  Father of the Bride Part II (1995)                        Comedy"
      ]
     },
     "execution_count": 3,
     "metadata": {},
     "output_type": "execute_result"
    }
   ],
   "source": [
    "# define columns for movies.dat\n",
    "movies_columns = [\"MovieID\", \"Title\", \"Genres\"]\n",
    "# import movies.dat as df\n",
    "movies_df = pd.read_csv(\"ml-1m/movies.dat\", sep=\"::\", names=movies_columns, engine=\"python\", encoding=\"ISO-8859-1\")\n",
    "movies_df.head()"
   ]
  },
  {
   "cell_type": "code",
   "execution_count": 4,
   "metadata": {},
   "outputs": [
    {
     "name": "stdout",
     "output_type": "stream",
     "text": [
      "6040 users\n",
      "3883 movies\n"
     ]
    }
   ],
   "source": [
    "# get number of unique users and movies\n",
    "n_users = ratings_df.UserID.unique().shape[0]\n",
    "n_movies = movies_df.MovieID.unique().shape[0]\n",
    "print(f\"{n_users} users\")\n",
    "print(f\"{n_movies} movies\")"
   ]
  },
  {
   "cell_type": "code",
   "execution_count": 5,
   "metadata": {},
   "outputs": [],
   "source": [
    "# create user_ratings matrix, loop is too slow\n",
    "ratings_matrix = ratings_df.pivot_table(\n",
    "    index='UserID',\n",
    "    columns='MovieID',\n",
    "    values='Rating',\n",
    "    fill_value=0  \n",
    ")"
   ]
  },
  {
   "cell_type": "code",
   "execution_count": 6,
   "metadata": {},
   "outputs": [
    {
     "name": "stdout",
     "output_type": "stream",
     "text": [
      "Test User ID: 1712\n"
     ]
    }
   ],
   "source": [
    "# choose random user as test\n",
    "random_user_id = random.choice(ratings_df.UserID.unique())\n",
    "print(f\"Test User ID: {random_user_id}\")\n",
    "\n",
    "# get random_user_ratings\n",
    "test_user_ratings = ratings_matrix.loc[random_user_id]\n",
    "\n",
    "# create training set\n",
    "train_ratings = ratings_matrix.drop(index=random_user_id)\n",
    "\n",
    "# convert to numpy matrix\n",
    "train_matrix = train_ratings.to_numpy()\n",
    "test_user_matrix = test_user_ratings.to_numpy()"
   ]
  },
  {
   "cell_type": "code",
   "execution_count": 7,
   "metadata": {},
   "outputs": [],
   "source": [
    "# fill missing values with 0 for cosine similarity\n",
    "test_user_filled = test_user_matrix.reshape(1, -1)\n",
    "train_ratings_filled = train_ratings.fillna(0).to_numpy()"
   ]
  },
  {
   "cell_type": "code",
   "execution_count": 8,
   "metadata": {
    "scrolled": true
   },
   "outputs": [],
   "source": [
    "def compute_centered_cosine(row, target):\n",
    "    \n",
    "    # get movies that both user rated\n",
    "    valid = ~np.isnan(row) & ~np.isnan(target)\n",
    "    \n",
    "    # get common ratings\n",
    "    user_ratings = row[valid]\n",
    "    target_ratings = target[valid]\n",
    "    \n",
    "    # calculatge mean ratngs\n",
    "    user_mean = np.nanmean(user_ratings)\n",
    "    target_mean = np.nanmean(target_ratings)\n",
    "    \n",
    "    # center ratings by subtracting mean\n",
    "    user_centered = user_ratings - user_mean\n",
    "    target_centered = target_ratings - target_mean\n",
    "    \n",
    "    # calculate numerater and denominator\n",
    "    numerator = np.dot(user_centered, target_centered)\n",
    "    denominator = np.sqrt(np.dot(user_centered, user_centered)) * np.sqrt(np.dot(target_centered, target_centered))\n",
    "    \n",
    "    return numerator / denominator + 1e-9"
   ]
  },
  {
   "cell_type": "code",
   "execution_count": 9,
   "metadata": {},
   "outputs": [],
   "source": [
    "def predict_ratings(similarities, train_matrix, k):\n",
    "\n",
    "    top_k_indices = similarities.argsort()[-k:][::-1]\n",
    "\n",
    "    # get top k similarities and corresponding user ratings\n",
    "    top_k_similarities = similarities[top_k_indices]\n",
    "    top_k_ratings = train_matrix[top_k_indices]\n",
    "\n",
    "    # calculate similarity-weighted average\n",
    "    weighted_sum = np.dot(top_k_similarities, top_k_ratings)\n",
    "\n",
    "    # sum absolute values\n",
    "    sum_similarities = np.abs(top_k_similarities).sum()\n",
    "\n",
    "    # calculate the predicted ratings as the weighted average\n",
    "    predicted_ratings = weighted_sum / sum_similarities\n",
    "    \n",
    "    return predicted_ratings\n"
   ]
  },
  {
   "cell_type": "code",
   "execution_count": 10,
   "metadata": {},
   "outputs": [],
   "source": [
    "# calculate rmse between actual and predicted ratings\n",
    "def calculate_rmse(actual, predicted):\n",
    "\n",
    "    # get movies user has rated\n",
    "    mask = ~np.isnan(actual)\n",
    "    \n",
    "    # get actual and predicted ratings\n",
    "    y_true = actual[mask]\n",
    "    y_pred = predicted[mask]\n",
    "    \n",
    "    return np.sqrt(mean_squared_error(y_true, y_pred))"
   ]
  },
  {
   "cell_type": "code",
   "execution_count": 11,
   "metadata": {},
   "outputs": [],
   "source": [
    "# calulate similarties between train and test user\n",
    "cosine_similarities = cosine_similarity(train_ratings_filled, test_user_filled).flatten()\n",
    "train_ratings_df = pd.DataFrame(train_ratings_filled, columns=train_ratings.columns, index=train_ratings.index)\n",
    "centered_cosine_similarities = train_ratings_df.apply(lambda row: compute_centered_cosine(row, test_user_ratings), axis=1).fillna(0).to_numpy()"
   ]
  },
  {
   "cell_type": "code",
   "execution_count": 12,
   "metadata": {},
   "outputs": [
    {
     "name": "stdout",
     "output_type": "stream",
     "text": [
      "\n",
      "Evaluation Results:\n",
      "    k Similarity Metric      RMSE\n",
      "0   5            Cosine  0.982812\n",
      "1   5   Centered Cosine  0.969956\n",
      "2  10            Cosine  0.978254\n",
      "3  10   Centered Cosine  0.936961\n",
      "4  20            Cosine  0.970092\n",
      "5  20   Centered Cosine  0.938411\n",
      "6  30            Cosine  0.970759\n",
      "7  30   Centered Cosine  0.937639\n",
      "8  50            Cosine  0.965614\n",
      "9  50   Centered Cosine  0.937339\n"
     ]
    }
   ],
   "source": [
    "# list of k values to test\n",
    "k_values = [5, 10, 20, 30, 50]\n",
    "\n",
    "# stores test results\n",
    "results = []\n",
    "\n",
    "for k in k_values:\n",
    "    # predict cosine similarity\n",
    "    predicted_cosine = predict_ratings(cosine_similarities, train_matrix, k)\n",
    "    # calculate rsme\n",
    "    rmse_cosine = calculate_rmse(test_user_matrix, predicted_cosine)\n",
    "\n",
    "    # predict centered cosine similarity\n",
    "    predicted_centered_cosine = predict_ratings(centered_cosine_similarities, train_matrix, k)\n",
    "    # calculate rsme\n",
    "    rmse_centered_cosine = calculate_rmse(test_user_matrix, predicted_centered_cosine)\n",
    "\n",
    "    # append results\n",
    "    results.append({\n",
    "        'k': k,\n",
    "        'Similarity Metric': 'Cosine',\n",
    "        'RMSE': rmse_cosine\n",
    "    })\n",
    "    results.append({\n",
    "        'k': k,\n",
    "        'Similarity Metric': 'Centered Cosine',\n",
    "        'RMSE': rmse_centered_cosine\n",
    "    })\n",
    "\n",
    "# show results\n",
    "results_df = pd.DataFrame(results)\n",
    "print(\"\\nEvaluation Results:\")\n",
    "print(results_df)\n"
   ]
  },
  {
   "cell_type": "code",
   "execution_count": 13,
   "metadata": {},
   "outputs": [
    {
     "name": "stdout",
     "output_type": "stream",
     "text": [
      "\n",
      "Optimal k: 10\n",
      "Best Similarity Metric: Centered Cosine\n",
      "Lowest RMSE: 0.9370\n"
     ]
    },
    {
     "data": {
      "image/png": "[encoded data removed]",
      "text/plain": [
       "<Figure size 1000x600 with 1 Axes>"
      ]
     },
     "metadata": {},
     "output_type": "display_data"
    }
   ],
   "source": [
    "optimal_row = results_df.loc[results_df['RMSE'].idxmin()]\n",
    "optimal_k = optimal_row['k']\n",
    "optimal_metric = optimal_row['Similarity Metric']\n",
    "optimal_rmse = optimal_row['RMSE']\n",
    "\n",
    "print(f\"\\nOptimal k: {optimal_k}\")\n",
    "print(f\"Best Similarity Metric: {optimal_metric}\")\n",
    "print(f\"Lowest RMSE: {optimal_rmse:.4f}\")\n",
    "\n",
    "sns.set(style=\"whitegrid\")\n",
    "plt.figure(figsize=(10, 6))\n",
    "sns.lineplot(data=results_df, x='k', y='RMSE', hue='Similarity Metric', marker='o')\n",
    "plt.title('RMSE for Cosine and Centered Cosine Similarity per K')\n",
    "plt.xlabel('Number of Neighbors (k)')\n",
    "plt.ylabel('RMSE')\n",
    "plt.legend(title='Similarity Metric')\n",
    "plt.show()"
   ]
  },
  {
   "cell_type": "markdown",
   "metadata": {
    "id": "r-i5aIqXpPbu"
   },
   "source": [
    "# Task 2: Matrix Factorization-based Recommendation"
   ]
  },
  {
   "cell_type": "code",
   "execution_count": 14,
   "metadata": {},
   "outputs": [
    {
     "data": {
      "text/html": [
       "<div>\n",
       "<style scoped>\n",
       "    .dataframe tbody tr th:only-of-type {\n",
       "        vertical-align: middle;\n",
       "    }\n",
       "\n",
       "    .dataframe tbody tr th {\n",
       "        vertical-align: top;\n",
       "    }\n",
       "\n",
       "    .dataframe thead th {\n",
       "        text-align: right;\n",
       "    }\n",
       "</style>\n",
       "<table border=\"1\" class=\"dataframe\">\n",
       "  <thead>\n",
       "    <tr style=\"text-align: right;\">\n",
       "      <th></th>\n",
       "      <th>UserID</th>\n",
       "      <th>Gender</th>\n",
       "      <th>Age</th>\n",
       "      <th>Occupation</th>\n",
       "      <th>Zip-code</th>\n",
       "    </tr>\n",
       "  </thead>\n",
       "  <tbody>\n",
       "    <tr>\n",
       "      <th>0</th>\n",
       "      <td>1</td>\n",
       "      <td>F</td>\n",
       "      <td>1</td>\n",
       "      <td>10</td>\n",
       "      <td>48067</td>\n",
       "    </tr>\n",
       "    <tr>\n",
       "      <th>1</th>\n",
       "      <td>2</td>\n",
       "      <td>M</td>\n",
       "      <td>56</td>\n",
       "      <td>16</td>\n",
       "      <td>70072</td>\n",
       "    </tr>\n",
       "    <tr>\n",
       "      <th>2</th>\n",
       "      <td>3</td>\n",
       "      <td>M</td>\n",
       "      <td>25</td>\n",
       "      <td>15</td>\n",
       "      <td>55117</td>\n",
       "    </tr>\n",
       "    <tr>\n",
       "      <th>3</th>\n",
       "      <td>4</td>\n",
       "      <td>M</td>\n",
       "      <td>45</td>\n",
       "      <td>7</td>\n",
       "      <td>02460</td>\n",
       "    </tr>\n",
       "    <tr>\n",
       "      <th>4</th>\n",
       "      <td>5</td>\n",
       "      <td>M</td>\n",
       "      <td>25</td>\n",
       "      <td>20</td>\n",
       "      <td>55455</td>\n",
       "    </tr>\n",
       "  </tbody>\n",
       "</table>\n",
       "</div>"
      ],
      "text/plain": [
       "   UserID Gender  Age  Occupation Zip-code\n",
       "0       1      F    1          10    48067\n",
       "1       2      M   56          16    70072\n",
       "2       3      M   25          15    55117\n",
       "3       4      M   45           7    02460\n",
       "4       5      M   25          20    55455"
      ]
     },
     "execution_count": 14,
     "metadata": {},
     "output_type": "execute_result"
    }
   ],
   "source": [
    "# define columns for users.dat\n",
    "users_columns = [\"UserID\", \"Gender\", \"Age\", \"Occupation\", \"Zip-code\"]\n",
    "# import users.dat as df\n",
    "users_df = pd.read_csv(\"ml-1m/users.dat\", sep=\"::\", names=users_columns, engine=\"python\")\n",
    "users_df.head()"
   ]
  },
  {
   "cell_type": "code",
   "execution_count": 15,
   "metadata": {},
   "outputs": [
    {
     "name": "stdout",
     "output_type": "stream",
     "text": [
      "(6040, 6)\n",
      "(6,)\n",
      "(6, 3706)\n"
     ]
    }
   ],
   "source": [
    "# SVD parameters, deconstruct\n",
    "rating_matrix = ratings_matrix.to_numpy()\n",
    "U, s, Vt = svds(rating_matrix)\n",
    "print(U.shape)\n",
    "print(s.shape)\n",
    "print(Vt.shape)"
   ]
  },
  {
   "cell_type": "code",
   "execution_count": 16,
   "metadata": {},
   "outputs": [
    {
     "name": "stdout",
     "output_type": "stream",
     "text": [
      "MovieID      1         2         3         4         5         6         7     \\\n",
      "UserID                                                                          \n",
      "1        1.751824  0.244750  0.211983  0.056873  0.174201 -0.326069  0.404085   \n",
      "2        1.153659  0.255958  0.229254  0.071094  0.173009  1.287328  0.461180   \n",
      "3        1.354922  0.299652  0.143961 -0.001171  0.091686  0.073186  0.184797   \n",
      "4        0.417658  0.069586 -0.054706 -0.081009 -0.081361  0.283636 -0.103626   \n",
      "5        1.168469 -0.092868  0.039106  0.091556 -0.047282  1.147452 -0.070903   \n",
      "\n",
      "MovieID      8         9         10    ...      3943      3944      3945  \\\n",
      "UserID                                 ...                                 \n",
      "1        0.043138 -0.064721  0.109654  ... -0.007240  0.004549  0.015544   \n",
      "2        0.014616  0.097666  1.087260  ... -0.024573 -0.000209 -0.008717   \n",
      "3        0.031427 -0.004350  0.390588  ... -0.008286  0.000969  0.014029   \n",
      "4       -0.003552  0.011544  0.316175  ... -0.014353 -0.002609  0.001458   \n",
      "5       -0.007414 -0.007180 -0.030491  ...  0.182007  0.003311  0.003029   \n",
      "\n",
      "MovieID      3946      3947      3948      3949      3950      3951      3952  \n",
      "UserID                                                                         \n",
      "1       -0.022484 -0.044613  0.331933 -0.075635 -0.029093  0.000664  0.009474  \n",
      "2        0.032181  0.005380  0.394876 -0.053244  0.013948 -0.010201  0.297717  \n",
      "3       -0.003212 -0.024541  0.262025 -0.048164 -0.017725 -0.009393  0.003943  \n",
      "4       -0.001538  0.001381  0.017702 -0.068074 -0.008331 -0.014550 -0.007269  \n",
      "5        0.070499  0.045870  1.086469  0.867472  0.110370  0.100399  0.689873  \n",
      "\n",
      "[5 rows x 3706 columns]\n"
     ]
    }
   ],
   "source": [
    "sigma = np.diag(s)\n",
    "\n",
    "# reconstruct ratings matrix\n",
    "predicted_ratings_matrix = np.dot(np.dot(U, sigma), Vt)\n",
    "\n",
    "# convert back to df\n",
    "predicted_ratings_df = pd.DataFrame(predicted_ratings_matrix, columns=ratings_matrix.columns, index=ratings_matrix.index)\n",
    "print(predicted_ratings_df.head())"
   ]
  },
  {
   "cell_type": "code",
   "execution_count": 17,
   "metadata": {},
   "outputs": [
    {
     "name": "stdout",
     "output_type": "stream",
     "text": [
      "Movie test set: [3840  411  909 1252  199]\n"
     ]
    }
   ],
   "source": [
    "# test set for movies\n",
    "random_movies = np.random.choice(movies_df['MovieID'].unique(), 5, replace=False)\n",
    "print(\"Movie test set:\", random_movies)"
   ]
  },
  {
   "cell_type": "code",
   "execution_count": 18,
   "metadata": {},
   "outputs": [
    {
     "name": "stdout",
     "output_type": "stream",
     "text": [
      "RMSE for Randomly Selected Test Movies:\n",
      "   MovieID  k      RMSE\n",
      "0     3840  6  0.351900\n",
      "1      411  6  0.135531\n",
      "2      909  6  0.910064\n",
      "3     1252  6  1.372438\n",
      "4      199  6  0.528169\n"
     ]
    }
   ],
   "source": [
    "# Initialize a list to store RMSE results\n",
    "rmse_results = []\n",
    "\n",
    "for movie_id in random_movies:\n",
    "    # get actual ratings\n",
    "    actual_ratings = ratings_matrix[movie_id].values\n",
    "    \n",
    "    # get predicted ratings\n",
    "    predicted_ratings = predicted_ratings_df[movie_id].values\n",
    "    \n",
    "    # calculate RMSE\n",
    "    rmse = calculate_rmse(actual_ratings, predicted_ratings)\n",
    "    rmse_results.append({'MovieID': movie_id, \"k\" :\"6\",'RMSE': rmse})\n",
    "\n",
    "rmse_df_svd = pd.DataFrame(rmse_results)\n",
    "print(\"RMSE for Randomly Selected Test Movies:\")\n",
    "print(rmse_df_svd)"
   ]
  },
  {
   "cell_type": "code",
   "execution_count": 19,
   "metadata": {},
   "outputs": [
    {
     "name": "stdout",
     "output_type": "stream",
     "text": [
      "Running SVD with k=10 latent factors...\n",
      "Running SVD with k=20 latent factors...\n",
      "Running SVD with k=50 latent factors...\n",
      "Running SVD with k=100 latent factors...\n",
      "\n",
      "RMSE for Different k Values and Movies:\n",
      "         k  MovieID      RMSE\n",
      "0       10        1  1.580613\n",
      "1       10        2  0.898448\n",
      "2       10        3  0.790911\n",
      "3       10        4  0.447443\n",
      "4       10        5  0.609966\n",
      "...    ...      ...       ...\n",
      "14819  100     3948  0.955110\n",
      "14820  100     3949  0.728093\n",
      "14821  100     3950  0.330975\n",
      "14822  100     3951  0.308598\n",
      "14823  100     3952  0.753196\n",
      "\n",
      "[14824 rows x 3 columns]\n"
     ]
    }
   ],
   "source": [
    "# k values to test\n",
    "k_values = [10,20, 50, 100]  \n",
    "rmse_results = []\n",
    "\n",
    "for k in k_values:\n",
    "    print(f\"Running SVD with k={k} latent factors...\")\n",
    "    \n",
    "    # perform SVD decomposition\n",
    "    U, s, Vt = svds(rating_matrix, k=k)\n",
    "    \n",
    "    # convert s to diagonal matrix\n",
    "    sigma = np.diag(s)\n",
    "    \n",
    "    # reconstruct matrix\n",
    "    predicted_ratings_matrix = np.dot(np.dot(U, sigma), Vt)\n",
    "    \n",
    "    # calculate RMSE for each movie\n",
    "    for movie_id in ratings_matrix.columns:\n",
    "        actual_ratings = rating_matrix[:, ratings_matrix.columns.get_loc(movie_id)]  \n",
    "        predicted_ratings = predicted_ratings_matrix[:, ratings_matrix.columns.get_loc(movie_id)]  \n",
    "        \n",
    "        movie_rmse = calculate_rmse(actual_ratings, predicted_ratings)\n",
    "        \n",
    "        # store result\n",
    "        if movie_rmse is not None:  \n",
    "            rmse_results.append({\n",
    "                'k': k,\n",
    "                'MovieID': movie_id,\n",
    "                'RMSE': movie_rmse\n",
    "            })\n",
    "\n",
    "rmse_df_svd_k = pd.DataFrame(rmse_results)\n",
    "print(\"\\nRMSE for Different k Values and Movies:\")\n",
    "print(rmse_df_svd_k)"
   ]
  },
  {
   "cell_type": "code",
   "execution_count": 20,
   "metadata": {},
   "outputs": [
    {
     "data": {
      "image/png": "[encoded data removed]",
      "text/plain": [
       "<Figure size 1000x600 with 1 Axes>"
      ]
     },
     "metadata": {},
     "output_type": "display_data"
    }
   ],
   "source": [
    "average_rmse = rmse_df_svd_k.groupby('k')['RMSE'].mean().reset_index()\n",
    "\n",
    "plt.figure(figsize=(10, 6))\n",
    "sns.lineplot(data=average_rmse, x='k', y='RMSE', marker='o')\n",
    "plt.title('Average RMSE vs Number of Latent Factors (k)')\n",
    "plt.xlabel('Number of Latent Factors (k)')\n",
    "plt.ylabel('Average RMSE')\n",
    "plt.grid(True)\n",
    "plt.show()"
   ]
  },
  {
   "cell_type": "code",
   "execution_count": 21,
   "metadata": {},
   "outputs": [
    {
     "name": "stdout",
     "output_type": "stream",
     "text": [
      "Original SVD average RMSE: 0.6596\n",
      "SVD k=100 average RMSE: 0.4476\n"
     ]
    }
   ],
   "source": [
    "average_rmse_value = rmse_df_svd[\"RMSE\"].mean()\n",
    "print(f\"Original SVD average RMSE: {average_rmse_value:.4f}\")\n",
    "average_rmse_k_100 = rmse_df_svd_k[rmse_df_svd_k[\"k\"] == 100][\"RMSE\"].mean()\n",
    "print(f\"SVD k=100 average RMSE: {average_rmse_k_100:.4f}\")"
   ]
  },
  {
   "cell_type": "markdown",
   "metadata": {
    "id": "r-i5aIqXpPbu"
   },
   "source": [
    "# Task 3: Ranking-based Evaluation and Comparison"
   ]
  },
  {
   "cell_type": "code",
   "execution_count": 22,
   "metadata": {},
   "outputs": [
    {
     "name": "stdout",
     "output_type": "stream",
     "text": [
      "Selected Test Users: [ 570 3713  551 4815 5757 2928 3075 4663  137 5890]\n"
     ]
    }
   ],
   "source": [
    "# get eligible users\n",
    "user_count = ratings_df.groupby('UserID').size()\n",
    "eligible_users = user_count[user_count > 100].index\n",
    "# select 10 users randomly\n",
    "random_users = np.random.choice(eligible_users, 10, replace=False)\n",
    "print(f\"Selected Test Users: {random_users}\")"
   ]
  },
  {
   "cell_type": "code",
   "execution_count": 23,
   "metadata": {},
   "outputs": [],
   "source": [
    "# calculate average precision\n",
    "def calculate_ap(true_ratings, predicted_scores, k):\n",
    "    k = 20\n",
    "    top_k_indices = np.argsort(predicted_scores)[::-1][:k]\n",
    "    \n",
    "    # get true relevant items\n",
    "    true_relevance = np.zeros_like(predicted_scores)\n",
    "    true_relevance[true_ratings > 0] = 1  \n",
    "\n",
    "    # get true relevance values to top-k predicted scores\n",
    "    y_true = true_relevance[top_k_indices]\n",
    "    y_score = predicted_scores[top_k_indices]\n",
    "\n",
    "    # calculate ap\n",
    "    return average_precision_score(y_true, y_score)"
   ]
  },
  {
   "cell_type": "code",
   "execution_count": 24,
   "metadata": {},
   "outputs": [],
   "source": [
    "def calculate_ndcg(true_ratings, predicted_scores, k):\n",
    "    k = 20\n",
    "    top_k_indices = np.argsort(predicted_scores)[::-1][:k]\n",
    "\n",
    "    # get true ratings and predicted scores\n",
    "    true_relevance = np.array(true_ratings)[top_k_indices]\n",
    "\n",
    "    # calculate DCG\n",
    "    dcg = np.sum((2**true_relevance - 1) / np.log2(np.arange(2, k + 2)))\n",
    "\n",
    "    # calculate IDCG\n",
    "    ideal_relevance = np.sort(true_relevance)[::-1]\n",
    "    idcg = np.sum((2**ideal_relevance - 1) / np.log2(np.arange(2, k + 2)))\n",
    "\n",
    "    if idcg == 0:\n",
    "        return 0.0\n",
    "\n",
    "    # calculate ndcg\n",
    "    return dcg / idcg"
   ]
  },
  {
   "cell_type": "code",
   "execution_count": 29,
   "metadata": {},
   "outputs": [],
   "source": [
    "def get_knncf_recommendations(user_id, ratings_matrix, k=20):\n",
    "    user_ratings = ratings_matrix.loc[user_id].values\n",
    "    train_ratings = ratings_matrix.drop(index=user_id)\n",
    "    train_ratings_df = train_ratings.fillna(0).astype(float)\n",
    "    similarities = train_ratings_df.apply(lambda row: compute_centered_cosine(row, user_ratings), axis=1).to_numpy()\n",
    "    train_matrix = train_ratings.to_numpy()\n",
    "    predicted_scores = predict_ratings(similarities, train_matrix, k)\n",
    "    return predicted_scores\n",
    "\n",
    "def get_imfr_recommendations(user_id, ratings_matrix, k=50):\n",
    "    rating_matrix = ratings_matrix.to_numpy()\n",
    "    U, s, Vt = svds(rating_matrix, k=k)\n",
    "    sigma = np.diag(s)\n",
    "    predicted_ratings_matrix = np.dot(np.dot(U, sigma), Vt)\n",
    "    predicted_ratings_df = pd.DataFrame(predicted_ratings_matrix, columns=ratings_matrix.columns, index=ratings_matrix.index)\n",
    "    predicted_scores = predicted_ratings_df.loc[user_id].values\n",
    "    return predicted_scores"
   ]
  },
  {
   "cell_type": "code",
   "execution_count": 30,
   "metadata": {},
   "outputs": [
    {
     "name": "stdout",
     "output_type": "stream",
     "text": [
      "\n",
      "Evaluation Results:\n",
      "    UserID Method        AP      NDCG\n",
      "0      570  KNNCF  0.975888  0.950277\n",
      "1      570   IMFR  0.988578  0.969768\n",
      "2     3713  KNNCF  0.836754  0.821492\n",
      "3     3713   IMFR  1.000000  0.989030\n",
      "4      551  KNNCF  0.577030  0.724439\n",
      "5      551   IMFR  1.000000  0.978159\n",
      "6     4815  KNNCF  0.807015  0.906724\n",
      "7     4815   IMFR  0.988578  0.857720\n",
      "8     5757  KNNCF  0.985289  0.970422\n",
      "9     5757   IMFR  0.994598  0.976492\n",
      "10    2928  KNNCF  0.841521  0.857481\n",
      "11    2928   IMFR  1.000000  0.998549\n",
      "12    3075  KNNCF  0.970674  0.974036\n",
      "13    3075   IMFR  1.000000  0.949093\n",
      "14    4663  KNNCF  0.902594  0.670230\n",
      "15    4663   IMFR  0.898479  0.926897\n",
      "16     137  KNNCF  0.951770  0.851144\n",
      "17     137   IMFR  0.997368  0.837592\n",
      "18    5890  KNNCF  0.893394  0.887264\n",
      "19    5890   IMFR  1.000000  0.970342\n"
     ]
    }
   ],
   "source": [
    "# store evaluation results\n",
    "results = []\n",
    "\n",
    "for user_id in random_users:\n",
    "    # KNNCF\n",
    "    knncf_predicted_scores = get_knncf_recommendations(user_id, ratings_matrix)\n",
    "    true_ratings_knn = ratings_matrix.loc[user_id].values\n",
    "    \n",
    "    # calculate AP and NDCG\n",
    "    knn_ap = calculate_ap(true_ratings_knn, knncf_predicted_scores, 20)\n",
    "    knn_ndcg = calculate_ndcg(true_ratings_knn, knncf_predicted_scores, 20)\n",
    "    results.append({'UserID': user_id, 'Method': 'KNNCF', 'AP': knn_ap, 'NDCG': knn_ndcg})\n",
    "    \n",
    "    # IMFR (SVD k=100)\n",
    "    imfr_predicted_scores = get_imfr_recommendations(user_id, ratings_matrix)\n",
    "    true_ratings_imfr = ratings_matrix.loc[user_id].values\n",
    "    \n",
    "    # calculate AP and NDCG \n",
    "    imfr_ap = calculate_ap(true_ratings_imfr, imfr_predicted_scores, 20)\n",
    "    imfr_ndcg = calculate_ndcg(true_ratings_imfr, imfr_predicted_scores, 20)\n",
    "    results.append({'UserID': user_id, 'Method': 'IMFR', 'AP': imfr_ap, 'NDCG': imfr_ndcg})\n",
    "\n",
    "# convert results to DataFrame\n",
    "results_df = pd.DataFrame(results)\n",
    "print(\"\\nEvaluation Results:\")\n",
    "print(results_df)"
   ]
  },
  {
   "cell_type": "code",
   "execution_count": 32,
   "metadata": {},
   "outputs": [
    {
     "data": {
      "image/png": "[encoded data removed]",
      "text/plain": [
       "<Figure size 500x500 with 1 Axes>"
      ]
     },
     "metadata": {},
     "output_type": "display_data"
    }
   ],
   "source": [
    "# barplot AP\n",
    "plt.figure(figsize=(5, 5))\n",
    "sns.barplot(data=results_df, x='Method', y='AP', errorbar=None, estimator=np.mean, palette='Blues', hue = \"Method\")\n",
    "plt.title(\"AP Comparison: KNNCF vs IMFR\")\n",
    "plt.xlabel(\"Method\")\n",
    "plt.ylabel(\"Average Precision (AP)\")\n",
    "plt.grid(axis=\"y\", linestyle=\"--\", alpha=0.5)\n",
    "plt.show()"
   ]
  },
  {
   "cell_type": "code",
   "execution_count": 33,
   "metadata": {},
   "outputs": [
    {
     "data": {
      "image/png": "[encoded data removed]",
      "text/plain": [
       "<Figure size 500x500 with 1 Axes>"
      ]
     },
     "metadata": {},
     "output_type": "display_data"
    }
   ],
   "source": [
    "plt.figure(figsize=(5, 5))\n",
    "sns.barplot(data=results_df, x=\"Method\", y='NDCG', errorbar=None, estimator=np.mean, palette=\"Greens\", hue=\"Method\")\n",
    "plt.title(\"NDCG Comparison: KNNCF vs IMFR\")\n",
    "plt.xlabel(\"Method\")\n",
    "plt.ylabel(\"NDCG\")\n",
    "plt.grid(axis=\"y\", linestyle=\"--\", alpha=0.5)\n",
    "plt.show()"
   ]
  },
  {
   "cell_type": "code",
   "execution_count": null,
   "metadata": {},
   "outputs": [],
   "source": []
  }
 ],
 "metadata": {
  "colab": {
   "collapsed_sections": [],
   "name": "assignment1_TEMPLATE.ipynb",
   "provenance": [],
   "toc_visible": true
  },
  "kernelspec": {
   "display_name": "Python 3 (ipykernel)",
   "language": "python",
   "name": "python3"
  },
  "language_info": {
   "codemirror_mode": {
    "name": "ipython",
    "version": 3
   },
   "file_extension": ".py",
   "mimetype": "text/x-python",
   "name": "python",
   "nbconvert_exporter": "python",
   "pygments_lexer": "ipython3",
   "version": "3.12.7"
  }
 },
 "nbformat": 4,
 "nbformat_minor": 4
}
