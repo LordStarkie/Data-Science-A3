{
 "cells": [
  {
   "cell_type": "markdown",
   "metadata": {
    "id": "u-EEv9utoT69"
   },
   "source": [
    "# Assignment 3 by: Jordan Pang (s3902159)\n"
   ]
  },
  {
   "cell_type": "code",
   "execution_count": 39,
   "metadata": {},
   "outputs": [],
   "source": [
    "import pandas as pd\n",
    "import numpy as np\n",
    "import matplotlib.pyplot as plt\n",
    "import seaborn as sns\n",
    "import random\n",
    "from sklearn.metrics.pairwise import cosine_similarity\n",
    "\n",
    "from sklearn.metrics import mean_squared_error"
   ]
  },
  {
   "cell_type": "markdown",
   "metadata": {
    "id": "u-EEv9utoT69"
   },
   "source": [
    "# Task 1: kNN-based Collaborative Filtering\n"
   ]
  },
  {
   "cell_type": "code",
   "execution_count": 40,
   "metadata": {},
   "outputs": [
    {
     "data": {
      "text/html": [
       "<div>\n",
       "<style scoped>\n",
       "    .dataframe tbody tr th:only-of-type {\n",
       "        vertical-align: middle;\n",
       "    }\n",
       "\n",
       "    .dataframe tbody tr th {\n",
       "        vertical-align: top;\n",
       "    }\n",
       "\n",
       "    .dataframe thead th {\n",
       "        text-align: right;\n",
       "    }\n",
       "</style>\n",
       "<table border=\"1\" class=\"dataframe\">\n",
       "  <thead>\n",
       "    <tr style=\"text-align: right;\">\n",
       "      <th></th>\n",
       "      <th>UserID</th>\n",
       "      <th>MovieID</th>\n",
       "      <th>Rating</th>\n",
       "      <th>Timestamp</th>\n",
       "    </tr>\n",
       "  </thead>\n",
       "  <tbody>\n",
       "    <tr>\n",
       "      <th>0</th>\n",
       "      <td>1</td>\n",
       "      <td>1193</td>\n",
       "      <td>5</td>\n",
       "      <td>978300760</td>\n",
       "    </tr>\n",
       "    <tr>\n",
       "      <th>1</th>\n",
       "      <td>1</td>\n",
       "      <td>661</td>\n",
       "      <td>3</td>\n",
       "      <td>978302109</td>\n",
       "    </tr>\n",
       "    <tr>\n",
       "      <th>2</th>\n",
       "      <td>1</td>\n",
       "      <td>914</td>\n",
       "      <td>3</td>\n",
       "      <td>978301968</td>\n",
       "    </tr>\n",
       "    <tr>\n",
       "      <th>3</th>\n",
       "      <td>1</td>\n",
       "      <td>3408</td>\n",
       "      <td>4</td>\n",
       "      <td>978300275</td>\n",
       "    </tr>\n",
       "    <tr>\n",
       "      <th>4</th>\n",
       "      <td>1</td>\n",
       "      <td>2355</td>\n",
       "      <td>5</td>\n",
       "      <td>978824291</td>\n",
       "    </tr>\n",
       "  </tbody>\n",
       "</table>\n",
       "</div>"
      ],
      "text/plain": [
       "   UserID  MovieID  Rating  Timestamp\n",
       "0       1     1193       5  978300760\n",
       "1       1      661       3  978302109\n",
       "2       1      914       3  978301968\n",
       "3       1     3408       4  978300275\n",
       "4       1     2355       5  978824291"
      ]
     },
     "execution_count": 40,
     "metadata": {},
     "output_type": "execute_result"
    }
   ],
   "source": [
    "# define columns for ratings.dat\n",
    "ratings_columns = [\"UserID\", \"MovieID\", \"Rating\", \"Timestamp\"]\n",
    "# import ratings.dat as df\n",
    "ratings_df = pd.read_csv(\"ml-1m/ratings.dat\", sep=\"::\", names=ratings_columns, engine=\"python\")\n",
    "ratings_df.head()"
   ]
  },
  {
   "cell_type": "code",
   "execution_count": 41,
   "metadata": {},
   "outputs": [
    {
     "data": {
      "text/html": [
       "<div>\n",
       "<style scoped>\n",
       "    .dataframe tbody tr th:only-of-type {\n",
       "        vertical-align: middle;\n",
       "    }\n",
       "\n",
       "    .dataframe tbody tr th {\n",
       "        vertical-align: top;\n",
       "    }\n",
       "\n",
       "    .dataframe thead th {\n",
       "        text-align: right;\n",
       "    }\n",
       "</style>\n",
       "<table border=\"1\" class=\"dataframe\">\n",
       "  <thead>\n",
       "    <tr style=\"text-align: right;\">\n",
       "      <th></th>\n",
       "      <th>MovieID</th>\n",
       "      <th>Title</th>\n",
       "      <th>Genres</th>\n",
       "    </tr>\n",
       "  </thead>\n",
       "  <tbody>\n",
       "    <tr>\n",
       "      <th>0</th>\n",
       "      <td>1</td>\n",
       "      <td>Toy Story (1995)</td>\n",
       "      <td>Animation|Children's|Comedy</td>\n",
       "    </tr>\n",
       "    <tr>\n",
       "      <th>1</th>\n",
       "      <td>2</td>\n",
       "      <td>Jumanji (1995)</td>\n",
       "      <td>Adventure|Children's|Fantasy</td>\n",
       "    </tr>\n",
       "    <tr>\n",
       "      <th>2</th>\n",
       "      <td>3</td>\n",
       "      <td>Grumpier Old Men (1995)</td>\n",
       "      <td>Comedy|Romance</td>\n",
       "    </tr>\n",
       "    <tr>\n",
       "      <th>3</th>\n",
       "      <td>4</td>\n",
       "      <td>Waiting to Exhale (1995)</td>\n",
       "      <td>Comedy|Drama</td>\n",
       "    </tr>\n",
       "    <tr>\n",
       "      <th>4</th>\n",
       "      <td>5</td>\n",
       "      <td>Father of the Bride Part II (1995)</td>\n",
       "      <td>Comedy</td>\n",
       "    </tr>\n",
       "  </tbody>\n",
       "</table>\n",
       "</div>"
      ],
      "text/plain": [
       "   MovieID                               Title                        Genres\n",
       "0        1                    Toy Story (1995)   Animation|Children's|Comedy\n",
       "1        2                      Jumanji (1995)  Adventure|Children's|Fantasy\n",
       "2        3             Grumpier Old Men (1995)                Comedy|Romance\n",
       "3        4            Waiting to Exhale (1995)                  Comedy|Drama\n",
       "4        5  Father of the Bride Part II (1995)                        Comedy"
      ]
     },
     "execution_count": 41,
     "metadata": {},
     "output_type": "execute_result"
    }
   ],
   "source": [
    "# define columns for movies.dat\n",
    "movies_columns = [\"MovieID\", \"Title\", \"Genres\"]\n",
    "# import movies.dat as df\n",
    "movies_df = pd.read_csv(\"ml-1m/movies.dat\", sep=\"::\", names=movies_columns, engine=\"python\", encoding=\"ISO-8859-1\")\n",
    "movies_df.head()"
   ]
  },
  {
   "cell_type": "code",
   "execution_count": 42,
   "metadata": {},
   "outputs": [
    {
     "name": "stdout",
     "output_type": "stream",
     "text": [
      "6040 users\n",
      "3883 movies\n"
     ]
    }
   ],
   "source": [
    "# get number of unique users and movies\n",
    "n_users = ratings_df.UserID.unique().shape[0]\n",
    "n_movies = movies_df.MovieID.unique().shape[0]\n",
    "print(f\"{n_users} users\")\n",
    "print(f\"{n_movies} movies\")"
   ]
  },
  {
   "cell_type": "code",
   "execution_count": 43,
   "metadata": {},
   "outputs": [],
   "source": [
    "# create user_ratings matrix, loop is too slow\n",
    "ratings_matrix = ratings_df.pivot_table(\n",
    "    index='UserID',\n",
    "    columns='MovieID',\n",
    "    values='Rating',\n",
    "    fill_value=0  \n",
    ")"
   ]
  },
  {
   "cell_type": "code",
   "execution_count": 44,
   "metadata": {},
   "outputs": [
    {
     "name": "stdout",
     "output_type": "stream",
     "text": [
      "Test User ID: 5239\n"
     ]
    }
   ],
   "source": [
    "random.seed(42)\n",
    "\n",
    "# choose random user as test\n",
    "random_user_id = random.choice(ratings_df.UserID.unique())\n",
    "print(f\"Test User ID: {random_user_id}\")\n",
    "\n",
    "# get random_user_ratings\n",
    "test_user_ratings = ratings_matrix.loc[random_user_id]\n",
    "\n",
    "# create training set\n",
    "train_ratings = ratings_matrix.drop(index=random_user_id)\n",
    "\n",
    "# convert to numpy matrix\n",
    "train_matrix = train_ratings.to_numpy()\n",
    "test_user_matrix = test_user_ratings.to_numpy()"
   ]
  },
  {
   "cell_type": "code",
   "execution_count": 45,
   "metadata": {},
   "outputs": [],
   "source": [
    "# fill missing values with 0 for cosine similarity\n",
    "test_user_filled = test_user_matrix.reshape(1, -1)\n",
    "train_ratings_filled = train_ratings.fillna(0).to_numpy()\n",
    "\n",
    "cosine_similarities = cosine_similarity(train_ratings_filled, test_user_filled).flatten()"
   ]
  },
  {
   "cell_type": "code",
   "execution_count": 46,
   "metadata": {},
   "outputs": [],
   "source": [
    "def compute_pearson(row, target):\n",
    "    valid = ~np.isnan(row) & ~np.isnan(target)\n",
    "    if np.sum(valid) == 0:\n",
    "        return 0\n",
    "    return np.corrcoef(row[valid], target[valid])[0, 1]\n",
    "\n",
    "pearson_similarities = train_ratings.apply(lambda row: compute_pearson(row, test_user_ratings), axis=1).fillna(0).to_numpy()\n",
    "\n",
    "# predicts the target user's ratings for all movies \n",
    "def predict_ratings(similarities, train_matrix, k):\n",
    "    # Get the indices of the top k similar users\n",
    "    top_k_indices = similarities.argsort()[-k:][::-1]  # Descending order\n",
    "\n",
    "    # Get the top k similarities\n",
    "    top_k_similarities = similarities[top_k_indices]\n",
    "\n",
    "    # Get the ratings of the top k users\n",
    "    top_k_ratings = train_matrix[top_k_indices]\n",
    "\n",
    "    # Compute the weighted sum of ratings\n",
    "    weighted_sum = np.dot(top_k_similarities, top_k_ratings)\n",
    "\n",
    "    # Compute the sum of similarities\n",
    "    sum_similarities = np.abs(top_k_similarities).sum()\n",
    "\n",
    "    # Avoid division by zero\n",
    "    if sum_similarities == 0:\n",
    "        sum_similarities = 1e-9\n",
    "\n",
    "    # Predict the ratings\n",
    "    predicted_ratings = weighted_sum / sum_similarities\n",
    "    return predicted_ratings\n",
    "\n",
    "\n",
    "def calculate_rmse(actual, predicted):\n",
    "    # Only consider the movies that the test user has rated\n",
    "    mask = ~np.isnan(actual)\n",
    "    y_true = actual[mask]\n",
    "    y_pred = predicted[mask]\n",
    "    \n",
    "    rmse = np.sqrt(mean_squared_error(y_true, y_pred))\n",
    "    return rmse"
   ]
  },
  {
   "cell_type": "code",
   "execution_count": 47,
   "metadata": {},
   "outputs": [
    {
     "name": "stdout",
     "output_type": "stream",
     "text": [
      "\n",
      "Evaluation Results:\n",
      "    k Similarity Metric      RMSE\n",
      "0   5            Cosine  1.206242\n",
      "1   5           Pearson  1.011460\n",
      "2  10            Cosine  1.088380\n",
      "3  10           Pearson  0.911975\n",
      "4  20            Cosine  1.002158\n",
      "5  20           Pearson  0.896037\n",
      "6  30            Cosine  0.959728\n",
      "7  30           Pearson  0.882598\n",
      "8  50            Cosine  0.951865\n",
      "9  50           Pearson  0.883839\n"
     ]
    }
   ],
   "source": [
    "k_values = [5, 10, 20, 30, 50]\n",
    "\n",
    "# Initialize a list to store the results\n",
    "results = []\n",
    "\n",
    "# Iterate over each k value\n",
    "for k in k_values:\n",
    "    # --- Cosine Similarity Predictions ---\n",
    "    predicted_cosine = predict_ratings(cosine_similarities, train_matrix, k)\n",
    "    rmse_cosine = calculate_rmse(test_user_matrix, predicted_cosine)\n",
    "\n",
    "    # --- Pearson Correlation Predictions ---\n",
    "    predicted_pearson = predict_ratings(pearson_similarities, train_matrix, k)\n",
    "    rmse_pearson = calculate_rmse(test_user_matrix, predicted_pearson)\n",
    "\n",
    "    # --- Append the Results ---\n",
    "    results.append({\n",
    "        'k': k,\n",
    "        'Similarity Metric': 'Cosine',\n",
    "        'RMSE': rmse_cosine\n",
    "    })\n",
    "    results.append({\n",
    "        'k': k,\n",
    "        'Similarity Metric': 'Pearson',\n",
    "        'RMSE': rmse_pearson\n",
    "    })\n",
    "\n",
    "# --- 8. Convert Results to DataFrame and Display ---\n",
    "results_df = pd.DataFrame(results)\n",
    "print(\"\\nEvaluation Results:\")\n",
    "print(results_df)"
   ]
  },
  {
   "cell_type": "code",
   "execution_count": 48,
   "metadata": {},
   "outputs": [
    {
     "name": "stdout",
     "output_type": "stream",
     "text": [
      "\n",
      "Optimal k: 30\n",
      "Best Similarity Metric: Pearson\n",
      "Lowest RMSE: 0.8826\n"
     ]
    },
    {
     "data": {
      "image/png": "[encoded data removed]",
      "text/plain": [
       "<Figure size 1000x600 with 1 Axes>"
      ]
     },
     "metadata": {},
     "output_type": "display_data"
    }
   ],
   "source": [
    "optimal_row = results_df.loc[results_df['RMSE'].idxmin()]\n",
    "optimal_k = optimal_row['k']\n",
    "optimal_metric = optimal_row['Similarity Metric']\n",
    "optimal_rmse = optimal_row['RMSE']\n",
    "\n",
    "print(f\"\\nOptimal k: {optimal_k}\")\n",
    "print(f\"Best Similarity Metric: {optimal_metric}\")\n",
    "print(f\"Lowest RMSE: {optimal_rmse:.4f}\")\n",
    "\n",
    "sns.set(style=\"whitegrid\")\n",
    "plt.figure(figsize=(10, 6))\n",
    "sns.lineplot(data=results_df, x='k', y='RMSE', hue='Similarity Metric', marker='o')\n",
    "plt.title('RMSE vs k for Cosine Similarity and Pearson Correlation')\n",
    "plt.xlabel('Number of Neighbors (k)')\n",
    "plt.ylabel('RMSE')\n",
    "plt.legend(title='Similarity Metric')\n",
    "plt.show()"
   ]
  },
  {
   "cell_type": "markdown",
   "metadata": {
    "id": "r-i5aIqXpPbu"
   },
   "source": [
    "# Task 2: Matrix Factorization-based Recommendation"
   ]
  },
  {
   "cell_type": "code",
   "execution_count": null,
   "metadata": {},
   "outputs": [],
   "source": []
  },
  {
   "cell_type": "markdown",
   "metadata": {
    "id": "r-i5aIqXpPbu"
   },
   "source": [
    "# Task 3: Ranking-based Evaluation and Comparison"
   ]
  },
  {
   "cell_type": "code",
   "execution_count": null,
   "metadata": {},
   "outputs": [],
   "source": []
  }
 ],
 "metadata": {
  "colab": {
   "collapsed_sections": [],
   "name": "assignment1_TEMPLATE.ipynb",
   "provenance": [],
   "toc_visible": true
  },
  "kernelspec": {
   "display_name": "Python 3 (ipykernel)",
   "language": "python",
   "name": "python3"
  },
  "language_info": {
   "codemirror_mode": {
    "name": "ipython",
    "version": 3
   },
   "file_extension": ".py",
   "mimetype": "text/x-python",
   "name": "python",
   "nbconvert_exporter": "python",
   "pygments_lexer": "ipython3",
   "version": "3.11.4"
  }
 },
 "nbformat": 4,
 "nbformat_minor": 4
}
